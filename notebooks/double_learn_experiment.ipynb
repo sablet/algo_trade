{
 "cells": [
  {
   "cell_type": "code",
   "execution_count": 2,
   "metadata": {
    "collapsed": false
   },
   "outputs": [],
   "source": [
    "import subprocess\n",
    "import os\n",
    "os.chdir(subprocess.getoutput(\"git rev-parse --show-toplevel\"))\n",
    "%matplotlib inline\n",
    "import warnings\n",
    "warnings.filterwarnings('ignore')"
   ]
  },
  {
   "cell_type": "code",
   "execution_count": 2,
   "metadata": {
    "collapsed": false
   },
   "outputs": [],
   "source": [
    "import matplotlib.pyplot as plt\n",
    "import numpy as np\n",
    "import pandas as pd\n",
    "from src import get_data, linear_model, preprocess, utility"
   ]
  },
  {
   "cell_type": "code",
   "execution_count": 3,
   "metadata": {
    "collapsed": true
   },
   "outputs": [],
   "source": [
    "term_dict = {\n",
    "    'train': ['2011-01-01', '2014-12-31'],\n",
    "    'valid': ['2015-01-01', '2015-12-31'],\n",
    "    'test' : ['2016-01-01', '2016-12-31']\n",
    "}"
   ]
  },
  {
   "cell_type": "code",
   "execution_count": 4,
   "metadata": {
    "collapsed": false
   },
   "outputs": [],
   "source": [
    "panel = get_data.symbols2daily_values()\n",
    "features, labels, terms = preprocess.panel2get_batch(panel, term_dict, feature_term=6)\n"
   ]
  },
  {
   "cell_type": "code",
   "execution_count": 6,
   "metadata": {
    "collapsed": false
   },
   "outputs": [],
   "source": [
    "linear = linear_model.LinearModel(features, labels, terms)\n",
    "linear.inference()"
   ]
  },
  {
   "cell_type": "code",
   "execution_count": 70,
   "metadata": {
    "collapsed": true
   },
   "outputs": [
    {
     "data": {
      "text/plain": [
       "(array([  2.60000000e+01,   1.10000000e+01,   6.67200000e+03,\n",
       "          1.91600000e+03,   1.00420000e+04,   4.24020000e+04,\n",
       "          1.23281000e+05,   2.21109000e+05,   6.45490000e+04,\n",
       "          8.00000000e+02]),\n",
       " array([-20.0746767 , -19.57546219, -19.07624767, -18.57703316,\n",
       "        -18.07781865, -17.57860413, -17.07938962, -16.5801751 ,\n",
       "        -16.08096059, -15.58174607, -15.08253156]),\n",
       " <a list of 10 Patch objects>)"
      ]
     },
     "execution_count": 70,
     "metadata": {},
     "output_type": "execute_result"
    },
    {
     "data": {
      "image/png": "[encoded data removed]",
      "text/plain": [
       "<matplotlib.figure.Figure at 0x7f7b28dae320>"
      ]
     },
     "metadata": {},
     "output_type": "display_data"
    }
   ],
   "source": [
    "data_key = 'train'\n",
    "arr = utility.np1(linear.model.predict(linear.features[data_key]) - labels[data_key])\n",
    "f = np.log10(np.abs(arr + 1e-19))\n",
    "plt.hist(f)"
   ]
  },
  {
   "cell_type": "code",
   "execution_count": 60,
   "metadata": {
    "collapsed": true
   },
   "outputs": [
    {
     "data": {
      "text/plain": [
       "(array([  3.00000000e+00,   6.00000000e+00,   2.60000000e+01,\n",
       "          1.24000000e+02,   7.27000000e+02,   3.37400000e+03,\n",
       "          1.63940000e+04,   6.19000000e+04,   3.49850000e+04,\n",
       "          3.97000000e+02]),\n",
       " array([-7.62020749, -6.93077935, -6.24135121, -5.55192308, -4.86249494,\n",
       "        -4.17306681, -3.48363867, -2.79421053, -2.1047824 , -1.41535426,\n",
       "        -0.72592612]),\n",
       " <a list of 10 Patch objects>)"
      ]
     },
     "execution_count": 60,
     "metadata": {},
     "output_type": "execute_result"
    },
    {
     "data": {
      "image/png": "[encoded data removed]",
      "text/plain": [
       "<matplotlib.figure.Figure at 0x7f7b2bbba9b0>"
      ]
     },
     "metadata": {},
     "output_type": "display_data"
    }
   ],
   "source": [
    "plt.hist(f)"
   ]
  },
  {
   "cell_type": "code",
   "execution_count": 65,
   "metadata": {
    "collapsed": true
   },
   "outputs": [
    {
     "data": {
      "text/plain": [
       "(array([  2.00000000e+00,   8.00000000e+00,   3.50000000e+01,\n",
       "          1.66000000e+02,   1.40000000e+03,   5.01100000e+03,\n",
       "          2.18750000e+04,   6.27410000e+04,   2.62560000e+04,\n",
       "          4.42000000e+02]),\n",
       " array([-6.97620473, -6.32603045, -5.67585617, -5.02568189, -4.37550761,\n",
       "        -3.72533333, -3.07515905, -2.42498477, -1.77481049, -1.12463621,\n",
       "        -0.47446193]),\n",
       " <a list of 10 Patch objects>)"
      ]
     },
     "execution_count": 65,
     "metadata": {},
     "output_type": "execute_result"
    },
    {
     "data": {
      "image/png": "[encoded data removed]",
      "text/plain": [
       "<matplotlib.figure.Figure at 0x7f7b28de0908>"
      ]
     },
     "metadata": {},
     "output_type": "display_data"
    }
   ],
   "source": [
    "plt.hist(np.log10(np.abs(utility.np1(labels['valid'] + 10e-5))))"
   ]
  },
  {
   "cell_type": "code",
   "execution_count": 4,
   "metadata": {
    "collapsed": true
   },
   "outputs": [],
   "source": [
    "from pandas_datareader.oanda import get_oanda_currency_historical_rates"
   ]
  },
  {
   "cell_type": "code",
   "execution_count": 9,
   "metadata": {
    "collapsed": false
   },
   "outputs": [
    {
     "data": {
      "text/plain": [
       "'http://proxy.kuins.net:8080'"
      ]
     },
     "execution_count": 9,
     "metadata": {},
     "output_type": "execute_result"
    }
   ],
   "source": [
    "os.environ['https_proxy']"
   ]
  },
  {
   "cell_type": "code",
   "execution_count": 10,
   "metadata": {
    "collapsed": true
   },
   "outputs": [],
   "source": [
    "import oandapy"
   ]
  },
  {
   "cell_type": "code",
   "execution_count": null,
   "metadata": {
    "collapsed": true
   },
   "outputs": [],
   "source": [
    "oanda = oandapy.API(environment='practice', access_token=os.environ['oanda_token'])"
   ]
  }
 ],
 "metadata": {
  "anaconda-cloud": {},
  "kernelspec": {
   "display_name": "Python [default]",
   "language": "python",
   "name": "python3"
  },
  "language_info": {
   "codemirror_mode": {
    "name": "ipython",
    "version": 3
   },
   "file_extension": ".py",
   "mimetype": "text/x-python",
   "name": "python",
   "nbconvert_exporter": "python",
   "pygments_lexer": "ipython3",
   "version": "3.5.2"
  }
 },
 "nbformat": 4,
 "nbformat_minor": 1
}
