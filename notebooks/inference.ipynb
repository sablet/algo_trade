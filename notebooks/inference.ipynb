{
 "cells": [
  {
   "cell_type": "code",
   "execution_count": 1,
   "metadata": {
    "collapsed": false
   },
   "outputs": [],
   "source": [
    "import subprocess\n",
    "import os\n",
    "os.chdir(subprocess.getoutput(\"git rev-parse --show-toplevel\"))\n",
    "%matplotlib inline\n",
    "import warnings\n",
    "warnings.filterwarnings('ignore')"
   ]
  },
  {
   "cell_type": "code",
   "execution_count": 2,
   "metadata": {
    "collapsed": false,
    "scrolled": false
   },
   "outputs": [
    {
     "name": "stderr",
     "output_type": "stream",
     "text": [
      "Using TensorFlow backend.\n"
     ]
    }
   ],
   "source": [
    "import matplotlib.pyplot as plt\n",
    "import numpy as np\n",
    "import pandas as pd\n",
    "from src import get_data, linear_model, preprocess, nn_model"
   ]
  },
  {
   "cell_type": "code",
   "execution_count": 3,
   "metadata": {
    "collapsed": true
   },
   "outputs": [],
   "source": [
    "term_dict = {\n",
    "    'train': ['2011-01-01', '2014-12-31'],\n",
    "    'valid': ['2015-01-01', '2015-12-31'],\n",
    "    'test' : ['2016-01-01', '2016-12-31']\n",
    "}"
   ]
  },
  {
   "cell_type": "markdown",
   "metadata": {},
   "source": [
    "# Linear Model\n",
    "\n",
    "* $\\hat{c}_{t,i} = \\sum_{k=1}^6 w_{k,i} c_{t-k, i}$"
   ]
  },
  {
   "cell_type": "code",
   "execution_count": null,
   "metadata": {
    "collapsed": true
   },
   "outputs": [],
   "source": [
    "linear = linear_model.LinearModel(features, labels, terms)\n",
    "linear.inference()"
   ]
  },
  {
   "cell_type": "markdown",
   "metadata": {},
   "source": [
    "## accuracy\n",
    "$a_{t,i} \\leftarrow 1 \\hspace{5mm} \\text{if} \\hspace{5mm}\\hat{c}_{t.i} * c_{t,i} > 0$<br>\n",
    "$\\hspace{12mm} 0 \\hspace{5mm} \\text{otherwise}$ \n",
    "  \n",
    "* histgram: $\\left\\{ E_t[a_{t,i}] \\right\\}_i$ distribution\n",
    "* whole accuracy: $ E_{t,i}[a_{t,i}]$"
   ]
  },
  {
   "cell_type": "code",
   "execution_count": 6,
   "metadata": {
    "collapsed": false
   },
   "outputs": [
    {
     "name": "stdout",
     "output_type": "stream",
     "text": [
      "whole accuracy is 0.809\n"
     ]
    },
    {
     "data": {
      "image/png": "[encoded data removed]",
      "text/plain": [
       "<matplotlib.figure.Figure at 0x7f526b9a3860>"
      ]
     },
     "metadata": {},
     "output_type": "display_data"
    }
   ],
   "source": [
    "#PYTEST_VALIDATE_IGNORE_OUTPUT\n",
    "linear.plot_direction_accuracy()"
   ]
  },
  {
   "cell_type": "markdown",
   "metadata": {},
   "source": [
    "## profit\n",
    "* ${\\large p_t \\leftarrow p_{t-1} * E_i \\left[\\left(\\frac{x_{t,i}}{x_{t-1,i}}\\right)^{\\operatorname{sgn}(\\hat{c}_{t,i})}\\right]}\n",
    "\\hspace{1cm} (p_0=1)$\n",
    "* whole accuracy: ${\\large \\sqrt[\\#\\{t\\}]{\\prod_t p_t}}$"
   ]
  },
  {
   "cell_type": "code",
   "execution_count": 7,
   "metadata": {
    "collapsed": false
   },
   "outputs": [
    {
     "name": "stdout",
     "output_type": "stream",
     "text": [
      "whole profit ration is 1.01009\n"
     ]
    },
    {
     "data": {
      "image/png": "[encoded data removed]",
      "text/plain": [
       "<matplotlib.figure.Figure at 0x7f526b9a36d8>"
      ]
     },
     "metadata": {},
     "output_type": "display_data"
    }
   ],
   "source": [
    "#PYTEST_VALIDATE_IGNORE_OUTPUT\n",
    "linear.plot_profit()"
   ]
  }
 ],
 "metadata": {
  "anaconda-cloud": {},
  "kernelspec": {
   "display_name": "Python [default]",
   "language": "python",
   "name": "python3"
  },
  "language_info": {
   "codemirror_mode": {
    "name": "ipython",
    "version": 3
   },
   "file_extension": ".py",
   "mimetype": "text/x-python",
   "name": "python",
   "nbconvert_exporter": "python",
   "pygments_lexer": "ipython3",
   "version": "3.5.2"
  }
 },
 "nbformat": 4,
 "nbformat_minor": 1
}
